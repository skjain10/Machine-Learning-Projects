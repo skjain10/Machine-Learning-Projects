{
 "cells": [
  {
   "cell_type": "markdown",
   "metadata": {},
   "source": [
    "# Shwet Jain"
   ]
  },
  {
   "cell_type": "markdown",
   "metadata": {},
   "source": [
    "# IST 707 - Assignment 3 - Naive Bayes , SVM , Random Forest"
   ]
  },
  {
   "cell_type": "markdown",
   "metadata": {},
   "source": [
    "# Section 1:"
   ]
  },
  {
   "cell_type": "markdown",
   "metadata": {},
   "source": [
    "# Introduction"
   ]
  },
  {
   "cell_type": "markdown",
   "metadata": {},
   "source": [
    "The dataset consists of the pixel values in gray scale. This dataset stores the pixel values for different digits from 0 to 9. This train dataset will be used for training the model and predicting the digits from the pixel values of the test dataset. This homework involves training data using different methods such as Naive Bayes, kNN and SVM models. By comparing the accuracies of these models, prediction would be done on the test data using the model with the highest accuracy"
   ]
  },
  {
   "cell_type": "markdown",
   "metadata": {},
   "source": [
    "## Data Loading and Pre-Processing "
   ]
  },
  {
   "cell_type": "markdown",
   "metadata": {},
   "source": [
    "Importing all the necessary packages"
   ]
  },
  {
   "cell_type": "code",
   "execution_count": 496,
   "metadata": {},
   "outputs": [],
   "source": [
    "import pandas as pd\n",
    "import numpy as np\n",
    "import matplotlib.pyplot as plt\n",
    "import seaborn as sns\n",
    "from sklearn.model_selection import train_test_split, GridSearchCV, cross_val_score, ShuffleSplit\n",
    "from sklearn import metrics\n",
    "from sklearn.naive_bayes import GaussianNB, BernoulliNB, MultinomialNB"
   ]
  },
  {
   "cell_type": "markdown",
   "metadata": {},
   "source": [
    "Loading the sample dataset"
   ]
  },
  {
   "cell_type": "code",
   "execution_count": 497,
   "metadata": {
    "scrolled": true
   },
   "outputs": [
    {
     "data": {
      "text/plain": [
       "(1400, 785)"
      ]
     },
     "execution_count": 497,
     "metadata": {},
     "output_type": "execute_result"
    }
   ],
   "source": [
    "train_data = pd.read_csv('/Users/shwet/Downloads/Kaggle-digit-train-sample-small-1400.csv')\n",
    "test_data = pd.read_csv('/Users/shwet/Downloads/Kaggle-digit-test-sample1000.csv')\n",
    "train_data.shape"
   ]
  },
  {
   "cell_type": "markdown",
   "metadata": {},
   "source": [
    "Dropping the first column of the loaded dataset and storing it in X"
   ]
  },
  {
   "cell_type": "code",
   "execution_count": 498,
   "metadata": {},
   "outputs": [],
   "source": [
    "X = train_data.drop('label', axis=1)"
   ]
  },
  {
   "cell_type": "markdown",
   "metadata": {},
   "source": [
    "### Data Preprocessing for Naive Bayesian"
   ]
  },
  {
   "cell_type": "markdown",
   "metadata": {},
   "source": [
    "Pixels greater than 128 have been replaced by 1 and less than 128 have been replaced by 0 so that variance in the model is reduced and well explained. (This is not necessary though)\n"
   ]
  },
  {
   "cell_type": "code",
   "execution_count": 499,
   "metadata": {},
   "outputs": [],
   "source": [
    "for x in X.columns[0:]:\n",
    "    X[x]=np.where(X[x] <= 128, 1,0)"
   ]
  },
  {
   "cell_type": "markdown",
   "metadata": {},
   "source": [
    "Storing the first column in y "
   ]
  },
  {
   "cell_type": "code",
   "execution_count": 500,
   "metadata": {},
   "outputs": [],
   "source": [
    "y = train_data['label'] "
   ]
  },
  {
   "cell_type": "markdown",
   "metadata": {},
   "source": [
    "Splitting data into train data(70%) and test data(30%) using train_test_split"
   ]
  },
  {
   "cell_type": "code",
   "execution_count": 501,
   "metadata": {},
   "outputs": [],
   "source": [
    "X_train, X_test, y_train, y_test = train_test_split(X, y, test_size=0.3, random_state=16)"
   ]
  },
  {
   "cell_type": "markdown",
   "metadata": {},
   "source": [
    "Importing the time function"
   ]
  },
  {
   "cell_type": "code",
   "execution_count": 502,
   "metadata": {},
   "outputs": [],
   "source": [
    "from time import time"
   ]
  },
  {
   "cell_type": "markdown",
   "metadata": {},
   "source": [
    "# Section 2: "
   ]
  },
  {
   "cell_type": "markdown",
   "metadata": {},
   "source": [
    "## Naive Bayes Algorithm"
   ]
  },
  {
   "cell_type": "markdown",
   "metadata": {},
   "source": [
    "Importing the MultinomialNB function"
   ]
  },
  {
   "cell_type": "code",
   "execution_count": 503,
   "metadata": {},
   "outputs": [],
   "source": [
    "from sklearn.naive_bayes import MultinomialNB"
   ]
  },
  {
   "cell_type": "markdown",
   "metadata": {},
   "source": [
    "Running the model with default parameters"
   ]
  },
  {
   "cell_type": "code",
   "execution_count": 504,
   "metadata": {},
   "outputs": [
    {
     "name": "stdout",
     "output_type": "stream",
     "text": [
      " Naive Bayesian took 0.11 seconds\n"
     ]
    }
   ],
   "source": [
    "gnb = MultinomialNB()\n",
    "start = time()\n",
    "gnb_param={}\n",
    "grid_nb=GridSearchCV(gnb, gnb_param,cv=5,scoring=\"accuracy\")\n",
    "grid_nb.fit(X_train, y_train)\n",
    "print(\" Naive Bayesian took %.2f seconds\"\n",
    "       % (time() - start))"
   ]
  },
  {
   "cell_type": "code",
   "execution_count": 505,
   "metadata": {},
   "outputs": [
    {
     "data": {
      "text/plain": [
       "0.8051020408163265"
      ]
     },
     "execution_count": 505,
     "metadata": {},
     "output_type": "execute_result"
    }
   ],
   "source": [
    "grid_nb.best_score_"
   ]
  },
  {
   "cell_type": "code",
   "execution_count": 506,
   "metadata": {},
   "outputs": [
    {
     "name": "stdout",
     "output_type": "stream",
     "text": [
      "Accuracy: 80.48%\n"
     ]
    }
   ],
   "source": [
    "gnb_pred = grid_nb.predict(X_test)\n",
    "acc= round(metrics.accuracy_score(y_test, gnb_pred)*100, 2)\n",
    "print (\"Accuracy: \" + str(acc) + \"%\")"
   ]
  },
  {
   "cell_type": "markdown",
   "metadata": {},
   "source": [
    "Naive Bayesian takes in one parameter alpha, hence fine tuning the model using Grid Search "
   ]
  },
  {
   "cell_type": "code",
   "execution_count": 507,
   "metadata": {},
   "outputs": [],
   "source": [
    "param_grid= {'alpha':[0,0.2,0.5,1]}"
   ]
  },
  {
   "cell_type": "code",
   "execution_count": 508,
   "metadata": {
    "scrolled": true
   },
   "outputs": [
    {
     "name": "stderr",
     "output_type": "stream",
     "text": [
      "C:\\Users\\shwet\\Anaconda2\\lib\\site-packages\\sklearn\\naive_bayes.py:480: UserWarning: alpha too small will result in numeric errors, setting alpha = 1.0e-10\n",
      "  'setting alpha = %.1e' % _ALPHA_MIN)\n",
      "C:\\Users\\shwet\\Anaconda2\\lib\\site-packages\\sklearn\\naive_bayes.py:480: UserWarning: alpha too small will result in numeric errors, setting alpha = 1.0e-10\n",
      "  'setting alpha = %.1e' % _ALPHA_MIN)\n",
      "C:\\Users\\shwet\\Anaconda2\\lib\\site-packages\\sklearn\\naive_bayes.py:480: UserWarning: alpha too small will result in numeric errors, setting alpha = 1.0e-10\n",
      "  'setting alpha = %.1e' % _ALPHA_MIN)\n",
      "C:\\Users\\shwet\\Anaconda2\\lib\\site-packages\\sklearn\\naive_bayes.py:480: UserWarning: alpha too small will result in numeric errors, setting alpha = 1.0e-10\n",
      "  'setting alpha = %.1e' % _ALPHA_MIN)\n",
      "C:\\Users\\shwet\\Anaconda2\\lib\\site-packages\\sklearn\\naive_bayes.py:480: UserWarning: alpha too small will result in numeric errors, setting alpha = 1.0e-10\n",
      "  'setting alpha = %.1e' % _ALPHA_MIN)\n",
      "C:\\Users\\shwet\\Anaconda2\\lib\\site-packages\\sklearn\\naive_bayes.py:480: UserWarning: alpha too small will result in numeric errors, setting alpha = 1.0e-10\n",
      "  'setting alpha = %.1e' % _ALPHA_MIN)\n",
      "C:\\Users\\shwet\\Anaconda2\\lib\\site-packages\\sklearn\\naive_bayes.py:480: UserWarning: alpha too small will result in numeric errors, setting alpha = 1.0e-10\n",
      "  'setting alpha = %.1e' % _ALPHA_MIN)\n",
      "C:\\Users\\shwet\\Anaconda2\\lib\\site-packages\\sklearn\\naive_bayes.py:480: UserWarning: alpha too small will result in numeric errors, setting alpha = 1.0e-10\n",
      "  'setting alpha = %.1e' % _ALPHA_MIN)\n",
      "C:\\Users\\shwet\\Anaconda2\\lib\\site-packages\\sklearn\\naive_bayes.py:480: UserWarning: alpha too small will result in numeric errors, setting alpha = 1.0e-10\n",
      "  'setting alpha = %.1e' % _ALPHA_MIN)\n",
      "C:\\Users\\shwet\\Anaconda2\\lib\\site-packages\\sklearn\\naive_bayes.py:480: UserWarning: alpha too small will result in numeric errors, setting alpha = 1.0e-10\n",
      "  'setting alpha = %.1e' % _ALPHA_MIN)\n"
     ]
    },
    {
     "name": "stdout",
     "output_type": "stream",
     "text": [
      " Naive Bayesian took 0.82 seconds\n"
     ]
    },
    {
     "name": "stderr",
     "output_type": "stream",
     "text": [
      "C:\\Users\\shwet\\Anaconda2\\lib\\site-packages\\sklearn\\model_selection\\_search.py:841: DeprecationWarning: The default of the `iid` parameter will change from True to False in version 0.22 and will be removed in 0.24. This will change numeric results when test-set sizes are unequal.\n",
      "  DeprecationWarning)\n"
     ]
    }
   ],
   "source": [
    "start = time()\n",
    "grid_nb = GridSearchCV(gnb, param_grid, cv=10, scoring='accuracy')\n",
    "grid_nb.fit(X_train, y_train)\n",
    "print(\" Naive Bayesian took %.2f seconds\"\n",
    "       % (time() - start))\n"
   ]
  },
  {
   "cell_type": "markdown",
   "metadata": {},
   "source": [
    "To check the best parameter amongst the provided values in the list "
   ]
  },
  {
   "cell_type": "code",
   "execution_count": 510,
   "metadata": {},
   "outputs": [
    {
     "data": {
      "text/plain": [
       "{'alpha': 0.5}"
      ]
     },
     "execution_count": 510,
     "metadata": {},
     "output_type": "execute_result"
    }
   ],
   "source": [
    "grid_nb.best_params_"
   ]
  },
  {
   "cell_type": "markdown",
   "metadata": {},
   "source": [
    "Testing the model on the test data "
   ]
  },
  {
   "cell_type": "code",
   "execution_count": 511,
   "metadata": {},
   "outputs": [
    {
     "name": "stdout",
     "output_type": "stream",
     "text": [
      "Accuracy: 80.48%\n"
     ]
    }
   ],
   "source": [
    "grid_pred = grid_nb.predict(X_test)\n",
    "acc= round(metrics.accuracy_score(y_test, grid_pred)*100, 2)\n",
    "print (\"Accuracy: \" + str(acc) + \"%\")"
   ]
  },
  {
   "cell_type": "markdown",
   "metadata": {},
   "source": [
    "### Result: Naive Bayesian - Time taken : 0.82 secs , Accuracy - 80.48%"
   ]
  },
  {
   "cell_type": "markdown",
   "metadata": {},
   "source": [
    "# Section 3 - Part 1"
   ]
  },
  {
   "cell_type": "markdown",
   "metadata": {},
   "source": [
    "# Linear SVM"
   ]
  },
  {
   "cell_type": "code",
   "execution_count": 534,
   "metadata": {},
   "outputs": [],
   "source": [
    "train_data = pd.read_csv('/Users/shwet/Downloads/Kaggle-digit-train-sample-small-1400.csv')\n",
    "test_data = pd.read_csv('/Users/shwet/Downloads/Kaggle-digit-test-sample1000.csv')"
   ]
  },
  {
   "cell_type": "code",
   "execution_count": 535,
   "metadata": {},
   "outputs": [],
   "source": [
    "X = train_data.drop('label', axis=1)"
   ]
  },
  {
   "cell_type": "code",
   "execution_count": 536,
   "metadata": {},
   "outputs": [],
   "source": [
    "y = train_data['label'] "
   ]
  },
  {
   "cell_type": "code",
   "execution_count": 537,
   "metadata": {},
   "outputs": [],
   "source": [
    "X_train, X_test, y_train, y_test = train_test_split(X, y, test_size=0.3, random_state=16)"
   ]
  },
  {
   "cell_type": "markdown",
   "metadata": {},
   "source": [
    "import all the functions and packages"
   ]
  },
  {
   "cell_type": "code",
   "execution_count": 518,
   "metadata": {},
   "outputs": [],
   "source": [
    "from sklearn import svm\n",
    "from sklearn.svm import SVC"
   ]
  },
  {
   "cell_type": "code",
   "execution_count": 519,
   "metadata": {
    "scrolled": true
   },
   "outputs": [],
   "source": [
    "lin_clf = svm.LinearSVC(max_iter=100000)"
   ]
  },
  {
   "cell_type": "markdown",
   "metadata": {},
   "source": [
    "Passed in different values of C for Grid Search"
   ]
  },
  {
   "cell_type": "code",
   "execution_count": 520,
   "metadata": {},
   "outputs": [],
   "source": [
    "param_grid = {'C':[0.1,0.25,0.5,0.75,1]}\n"
   ]
  },
  {
   "cell_type": "code",
   "execution_count": 521,
   "metadata": {},
   "outputs": [
    {
     "name": "stdout",
     "output_type": "stream",
     "text": [
      "Linear SVM took 8.12 seconds\n"
     ]
    }
   ],
   "source": [
    "start = time()\n",
    "grid_lsvm = GridSearchCV(lin_clf,param_grid,cv=5,scoring=\"accuracy\")\n",
    "grid_lsvm.fit(X_train,y_train)\n",
    "print(\"Linear SVM took %.2f seconds\"\n",
    "       % (time() - start))"
   ]
  },
  {
   "cell_type": "code",
   "execution_count": 522,
   "metadata": {},
   "outputs": [
    {
     "data": {
      "text/plain": [
       "{'C': 0.1}"
      ]
     },
     "execution_count": 522,
     "metadata": {},
     "output_type": "execute_result"
    }
   ],
   "source": [
    "grid_lsvm.best_params_"
   ]
  },
  {
   "cell_type": "code",
   "execution_count": 523,
   "metadata": {},
   "outputs": [
    {
     "name": "stdout",
     "output_type": "stream",
     "text": [
      "Accuracy: 77.62%\n"
     ]
    }
   ],
   "source": [
    "grid_pred = grid_lsvm.predict(X_test_std)\n",
    "acc= round(metrics.accuracy_score(y_test, grid_pred)*100, 2)\n",
    "print (\"Accuracy: \" + str(acc) + \"%\")"
   ]
  },
  {
   "cell_type": "markdown",
   "metadata": {},
   "source": [
    "### Result: Linear SVM - Time taken : 8.12 secs , Accuracy - 77.62%"
   ]
  },
  {
   "cell_type": "markdown",
   "metadata": {},
   "source": [
    "# Section 3 - part 2 "
   ]
  },
  {
   "cell_type": "markdown",
   "metadata": {},
   "source": [
    "# Non-Linear SVM to increase accuracy of the model "
   ]
  },
  {
   "cell_type": "code",
   "execution_count": 524,
   "metadata": {},
   "outputs": [],
   "source": [
    "tuned_parameters = {'kernel': ['rbf','poly','sigmoid'],'degree':[2,3,5], 'gamma':['scale'],\n",
    "                     'C':[0.01,0.4,0.8,1]}"
   ]
  },
  {
   "cell_type": "code",
   "execution_count": 525,
   "metadata": {},
   "outputs": [
    {
     "name": "stderr",
     "output_type": "stream",
     "text": [
      "C:\\Users\\shwet\\Anaconda2\\lib\\site-packages\\sklearn\\model_selection\\_search.py:841: DeprecationWarning: The default of the `iid` parameter will change from True to False in version 0.22 and will be removed in 0.24. This will change numeric results when test-set sizes are unequal.\n",
      "  DeprecationWarning)\n"
     ]
    },
    {
     "name": "stdout",
     "output_type": "stream",
     "text": [
      "Linear SVM took 256.02 seconds\n"
     ]
    }
   ],
   "source": [
    "start = time()\n",
    "svml = svm.SVC()                    \n",
    "grid_nsvm = GridSearchCV(svml,tuned_parameters,cv=5, scoring='accuracy')\n",
    "grid_nsvm.fit(X_train, y_train)\n",
    "print(\"Linear SVM took %.2f seconds\"\n",
    "       % (time() - start))"
   ]
  },
  {
   "cell_type": "code",
   "execution_count": 543,
   "metadata": {},
   "outputs": [
    {
     "data": {
      "text/plain": [
       "{'C': 1, 'degree': 2, 'gamma': 'scale', 'kernel': 'rbf'}"
      ]
     },
     "execution_count": 543,
     "metadata": {},
     "output_type": "execute_result"
    }
   ],
   "source": [
    "grid_nsvm.best_params_"
   ]
  },
  {
   "cell_type": "code",
   "execution_count": 528,
   "metadata": {
    "scrolled": true
   },
   "outputs": [
    {
     "name": "stdout",
     "output_type": "stream",
     "text": [
      "Accuracy: 90.48%\n"
     ]
    }
   ],
   "source": [
    "grid_pred = grid_nsvm.predict(X_test)\n",
    "acc= round(metrics.accuracy_score(y_test, grid_pred)*100, 2)\n",
    "print (\"Accuracy: \" + str(acc) + \"%\")"
   ]
  },
  {
   "cell_type": "markdown",
   "metadata": {},
   "source": [
    "### Result: Non-Linear SVM - Time taken : 256.02 secs , Accuracy - 90.48%"
   ]
  },
  {
   "cell_type": "markdown",
   "metadata": {},
   "source": [
    "# Section 4 :"
   ]
  },
  {
   "cell_type": "markdown",
   "metadata": {},
   "source": [
    "# Random Forest Classifier"
   ]
  },
  {
   "cell_type": "markdown",
   "metadata": {},
   "source": [
    "Importing RandomForestClassifier function"
   ]
  },
  {
   "cell_type": "code",
   "execution_count": 538,
   "metadata": {},
   "outputs": [],
   "source": [
    "from sklearn.ensemble import RandomForestClassifier"
   ]
  },
  {
   "cell_type": "markdown",
   "metadata": {},
   "source": [
    "Setting 'param_drid' for Grid Search"
   ]
  },
  {
   "cell_type": "code",
   "execution_count": 539,
   "metadata": {},
   "outputs": [],
   "source": [
    " param_grid = {\"max_depth\": [3,7,10,5,15], \"n_estimators\":[50,100]}\n"
   ]
  },
  {
   "cell_type": "markdown",
   "metadata": {},
   "source": [
    "Running the model "
   ]
  },
  {
   "cell_type": "code",
   "execution_count": 540,
   "metadata": {},
   "outputs": [
    {
     "name": "stderr",
     "output_type": "stream",
     "text": [
      "C:\\Users\\shwet\\Anaconda2\\lib\\site-packages\\sklearn\\model_selection\\_search.py:841: DeprecationWarning: The default of the `iid` parameter will change from True to False in version 0.22 and will be removed in 0.24. This will change numeric results when test-set sizes are unequal.\n",
      "  DeprecationWarning)\n"
     ]
    },
    {
     "name": "stdout",
     "output_type": "stream",
     "text": [
      " Random Forest Classifier 14.91 seconds\n"
     ]
    }
   ],
   "source": [
    "rfc= RandomForestClassifier()\n",
    "start = time()\n",
    "grid_rfc = GridSearchCV(rfc, param_grid, cv=5, scoring='accuracy')\n",
    "grid_rfc.fit(X_train, y_train)\n",
    "print(\" Random Forest Classifier %.2f seconds\"\n",
    "       % (time() - start))"
   ]
  },
  {
   "cell_type": "code",
   "execution_count": 541,
   "metadata": {},
   "outputs": [
    {
     "data": {
      "text/plain": [
       "{'max_depth': 7, 'n_estimators': 100}"
      ]
     },
     "execution_count": 541,
     "metadata": {},
     "output_type": "execute_result"
    }
   ],
   "source": [
    "grid_rfc.best_params_"
   ]
  },
  {
   "cell_type": "markdown",
   "metadata": {},
   "source": [
    "Testing the model on test data "
   ]
  },
  {
   "cell_type": "code",
   "execution_count": 542,
   "metadata": {},
   "outputs": [
    {
     "name": "stdout",
     "output_type": "stream",
     "text": [
      "Accuracy: 87.14%\n"
     ]
    }
   ],
   "source": [
    "grid_pred = grid_rfc.predict(X_test)\n",
    "acc= round(metrics.accuracy_score(y_test, grid_pred)*100, 2)\n",
    "print (\"Accuracy: \" + str(acc) + \"%\")"
   ]
  },
  {
   "cell_type": "markdown",
   "metadata": {},
   "source": [
    "### Result: Random Forest Classifier - Time taken : 14.91 secs , Accuracy - 87.14%"
   ]
  },
  {
   "cell_type": "markdown",
   "metadata": {},
   "source": [
    "# Section 5:"
   ]
  },
  {
   "cell_type": "markdown",
   "metadata": {},
   "source": [
    "# Conclusion"
   ]
  },
  {
   "cell_type": "markdown",
   "metadata": {},
   "source": [
    "### Out of the three model, Naive Bayesian is the fastest (0.82 sec) but has low accuracy(80.48%) in comparison to other two models \n",
    " "
   ]
  },
  {
   "cell_type": "markdown",
   "metadata": {},
   "source": [
    "### On the other hand, SVM has an accuracy of 90.48% and it takes 256.02 secs"
   ]
  },
  {
   "cell_type": "markdown",
   "metadata": {},
   "source": [
    "### Random Forest Classifier has an accuracy of 87.14% nearly to that of SVM but it takes comparatively less time than SVM i.e. it takes 14.91 secs"
   ]
  },
  {
   "cell_type": "markdown",
   "metadata": {},
   "source": [
    "## SVM has the highest accuracy"
   ]
  },
  {
   "cell_type": "markdown",
   "metadata": {},
   "source": [
    "### Therefore, we should run our test data on SVM "
   ]
  },
  {
   "cell_type": "code",
   "execution_count": 544,
   "metadata": {},
   "outputs": [],
   "source": [
    "testx = test_data.drop('label',axis=1)\n",
    "testx = testx.iloc[0:998 :]\n",
    "grid_pred = grid_nsvm.predict(testx)\n"
   ]
  },
  {
   "cell_type": "code",
   "execution_count": 545,
   "metadata": {},
   "outputs": [
    {
     "data": {
      "text/plain": [
       "array([2, 0, 9, 4, 2, 7, 0, 3, 0, 3, 5, 7, 4, 0, 4, 5, 3, 1, 9, 0, 9, 1,\n",
       "       1, 5, 7, 4, 2, 7, 7, 7, 7, 5, 4, 2, 6, 2, 5, 5, 1, 6, 7, 7, 4, 9,\n",
       "       5, 7, 8, 8, 6, 7, 6, 8, 8, 3, 8, 2, 1, 2, 9, 0, 4, 1, 7, 0, 0, 0,\n",
       "       1, 4, 0, 1, 6, 5, 8, 8, 2, 8, 3, 9, 2, 8, 5, 9, 1, 0, 9, 2, 4, 3,\n",
       "       6, 7, 2, 0, 6, 6, 1, 4, 3, 8, 7, 4, 0, 3, 2, 0, 7, 3, 0, 5, 0, 3,\n",
       "       0, 0, 4, 7, 1, 7, 1, 1, 3, 3, 3, 7, 2, 8, 6, 3, 8, 7, 8, 4, 3, 5,\n",
       "       6, 0, 0, 0, 3, 1, 3, 0, 4, 3, 4, 5, 5, 8, 7, 4, 2, 8, 4, 3, 5, 6,\n",
       "       5, 1, 7, 5, 7, 8, 3, 0, 4, 5, 1, 8, 7, 6, 3, 0, 2, 7, 9, 6, 1, 3,\n",
       "       7, 4, 1, 2, 4, 3, 5, 2, 4, 9, 2, 1, 6, 0, 6, 1, 4, 9, 6, 0, 9, 7,\n",
       "       6, 9, 1, 9, 0, 9, 9, 0, 8, 4, 6, 2, 0, 9, 3, 6, 7, 2, 1, 6, 3, 4,\n",
       "       2, 3, 1, 2, 2, 0, 4, 6, 1, 0, 0, 4, 9, 1, 7, 3, 2, 8, 8, 6, 8, 6,\n",
       "       2, 8, 5, 5, 9, 8, 3, 8, 9, 7, 1, 3, 8, 4, 5, 1, 4, 5, 6, 3, 3, 5,\n",
       "       7, 0, 6, 8, 6, 1, 6, 0, 6, 3, 9, 9, 1, 5, 8, 4, 0, 9, 2, 0, 5, 3,\n",
       "       7, 1, 9, 9, 5, 7, 7, 9, 9, 6, 3, 0, 3, 3, 6, 9, 8, 2, 6, 3, 7, 1,\n",
       "       4, 5, 8, 5, 9, 0, 0, 3, 8, 4, 1, 8, 4, 1, 1, 9, 8, 4, 9, 1, 5, 3,\n",
       "       6, 3, 1, 3, 0, 8, 0, 0, 6, 0, 6, 2, 1, 8, 6, 0, 6, 5, 2, 2, 6, 7,\n",
       "       7, 2, 5, 8, 8, 9, 2, 7, 3, 6, 3, 8, 4, 2, 3, 8, 1, 6, 4, 8, 9, 9,\n",
       "       7, 6, 9, 5, 3, 7, 6, 5, 5, 4, 2, 6, 2, 1, 3, 7, 1, 7, 9, 9, 6, 1,\n",
       "       1, 1, 7, 3, 9, 7, 6, 1, 1, 1, 9, 3, 5, 5, 5, 0, 4, 1, 2, 3, 1, 1,\n",
       "       3, 5, 9, 6, 6, 5, 3, 1, 4, 7, 4, 7, 4, 8, 5, 2, 6, 1, 3, 9, 5, 0,\n",
       "       8, 4, 7, 4, 9, 4, 1, 5, 3, 9, 9, 7, 6, 9, 5, 9, 2, 3, 7, 6, 1, 7,\n",
       "       5, 0, 5, 1, 7, 4, 4, 1, 1, 4, 9, 5, 6, 0, 1, 3, 1, 0, 4, 8, 1, 2,\n",
       "       7, 9, 4, 8, 3, 7, 0, 4, 3, 4, 6, 7, 5, 3, 2, 0, 6, 5, 4, 4, 1, 8,\n",
       "       3, 3, 0, 6, 7, 5, 8, 7, 5, 3, 1, 7, 4, 2, 2, 9, 0, 7, 7, 1, 0, 1,\n",
       "       1, 7, 0, 5, 3, 8, 3, 5, 6, 5, 4, 3, 0, 2, 8, 2, 0, 3, 0, 9, 2, 1,\n",
       "       1, 3, 0, 5, 0, 0, 7, 5, 6, 2, 0, 3, 1, 1, 6, 5, 4, 1, 1, 9, 6, 5,\n",
       "       3, 6, 0, 4, 8, 2, 4, 2, 5, 1, 2, 6, 9, 1, 7, 3, 8, 0, 8, 8, 8, 5,\n",
       "       3, 6, 6, 6, 0, 3, 1, 1, 7, 1, 6, 2, 8, 5, 6, 4, 7, 4, 3, 3, 2, 4,\n",
       "       7, 0, 0, 9, 8, 5, 9, 4, 0, 8, 1, 5, 6, 7, 6, 1, 8, 6, 1, 4, 7, 7,\n",
       "       8, 3, 0, 9, 9, 6, 4, 7, 4, 4, 1, 8, 4, 9, 0, 0, 8, 2, 4, 3, 3, 7,\n",
       "       2, 3, 4, 0, 4, 8, 1, 3, 5, 6, 3, 9, 4, 3, 8, 7, 7, 9, 6, 0, 6, 9,\n",
       "       8, 1, 1, 3, 4, 6, 9, 9, 8, 6, 0, 1, 8, 4, 3, 9, 8, 8, 4, 0, 5, 0,\n",
       "       6, 0, 4, 4, 6, 5, 5, 8, 1, 5, 3, 6, 2, 3, 7, 8, 9, 3, 1, 0, 1, 0,\n",
       "       6, 4, 7, 5, 7, 1, 3, 2, 7, 7, 1, 6, 1, 5, 4, 4, 3, 4, 3, 9, 0, 7,\n",
       "       8, 6, 4, 9, 4, 4, 1, 4, 7, 1, 1, 8, 7, 0, 4, 0, 4, 0, 0, 5, 1, 8,\n",
       "       6, 5, 0, 1, 5, 3, 4, 6, 3, 1, 1, 6, 4, 8, 3, 5, 5, 4, 3, 5, 5, 0,\n",
       "       4, 0, 4, 3, 1, 6, 9, 7, 1, 1, 3, 3, 1, 4, 9, 6, 9, 1, 5, 4, 2, 3,\n",
       "       4, 4, 0, 9, 7, 4, 3, 0, 5, 0, 1, 9, 0, 4, 5, 2, 8, 5, 5, 9, 3, 9,\n",
       "       6, 1, 5, 3, 1, 9, 0, 8, 4, 6, 7, 2, 8, 5, 8, 9, 7, 7, 2, 8, 1, 3,\n",
       "       4, 5, 0, 4, 1, 4, 2, 3, 6, 9, 2, 3, 4, 5, 4, 2, 3, 8, 1, 1, 0, 1,\n",
       "       4, 9, 1, 1, 2, 7, 1, 5, 4, 9, 1, 7, 6, 0, 4, 2, 9, 9, 1, 1, 5, 3,\n",
       "       5, 7, 9, 7, 8, 3, 2, 7, 2, 0, 4, 7, 1, 8, 4, 6, 1, 0, 7, 3, 5, 9,\n",
       "       4, 7, 9, 6, 6, 3, 3, 2, 1, 4, 1, 3, 7, 7, 9, 5, 6, 2, 6, 1, 0, 9,\n",
       "       2, 2, 9, 2, 6, 7, 5, 2, 3, 2, 8, 3, 0, 2, 7, 9, 4, 0, 0, 5, 1, 8,\n",
       "       8, 5, 3, 2, 9, 6, 7, 0, 8, 0, 7, 4, 5, 8, 7, 9, 7, 7, 0, 5, 3, 2,\n",
       "       1, 9, 0, 6, 8, 3, 6, 2], dtype=int64)"
      ]
     },
     "execution_count": 545,
     "metadata": {},
     "output_type": "execute_result"
    }
   ],
   "source": [
    "grid_pred"
   ]
  },
  {
   "cell_type": "markdown",
   "metadata": {},
   "source": [
    "# We have predicted the test data using SVM"
   ]
  },
  {
   "cell_type": "code",
   "execution_count": null,
   "metadata": {},
   "outputs": [],
   "source": []
  }
 ],
 "metadata": {
  "kernelspec": {
   "display_name": "Python 2",
   "language": "python",
   "name": "python2"
  },
  "language_info": {
   "codemirror_mode": {
    "name": "ipython",
    "version": 2
   },
   "file_extension": ".py",
   "mimetype": "text/x-python",
   "name": "python",
   "nbconvert_exporter": "python",
   "pygments_lexer": "ipython2",
   "version": "2.7.16"
  }
 },
 "nbformat": 4,
 "nbformat_minor": 2
}
